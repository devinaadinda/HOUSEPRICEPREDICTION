{
  "nbformat": 4,
  "nbformat_minor": 0,
  "metadata": {
    "colab": {
      "name": "1301164672_1301164637_1301162753_Unsupervised.ipynb",
      "provenance": [],
      "collapsed_sections": []
    },
    "kernelspec": {
      "name": "python3",
      "display_name": "Python 3"
    }
  },
  "cells": [
    {
      "cell_type": "markdown",
      "metadata": {
        "id": "MvQogo0LN-ou"
      },
      "source": [
        "# Import Library"
      ]
    },
    {
      "cell_type": "code",
      "metadata": {
        "id": "hxG37TCLOCpd"
      },
      "source": [
        "import pandas as pd\n",
        "import numpy as np\n",
        "import matplotlib.pyplot as plt\n",
        "import math"
      ],
      "execution_count": null,
      "outputs": []
    },
    {
      "cell_type": "markdown",
      "metadata": {
        "id": "Y2MbeOH7PPGw"
      },
      "source": [
        "# Definisi Fungsi"
      ]
    },
    {
      "cell_type": "markdown",
      "metadata": {
        "id": "cR7-KP2Zqxrr"
      },
      "source": [
        "fungsi jarak antara dua instance"
      ]
    },
    {
      "cell_type": "code",
      "metadata": {
        "id": "ezDJIjzePRlv"
      },
      "source": [
        "def hitungJarak(instance1, instance2):\n",
        "  return math.sqrt(pow(instance1['price']-instance2['price'],2)+pow(instance1['bedrooms']-instance2['bedrooms'],2)+\n",
        "                   pow(instance1['bathrooms']-instance2['bathrooms'],2)+pow(instance1['sqft_living']-instance2['sqft_living'],2)+\n",
        "                   pow(instance1['sqft_living']-instance2['sqft_living'],2)+pow(instance1['sqft_lot']-instance2['sqft_lot'],2)+\n",
        "                   pow(instance1['floors']-instance2['floors'],2)+pow(instance1['waterfront']-instance2['waterfront'],2)+\n",
        "                   pow(instance1['view']-instance2['view'],2)+pow(instance1['condition']-instance2['condition'],2)+\n",
        "                   pow(instance1['grade']-instance2['grade'],2)+pow(instance1['sqft_above']-instance2['sqft_above'],2)+\n",
        "                   pow(instance1['sqft_basement']-instance2['sqft_basement'],2)+pow(instance1['yr_built']-instance2['yr_built'],2)+\n",
        "                   pow(instance1['yr_renovated']-instance2['yr_renovated'],2)+pow(instance1['lat']-instance2['lat'],2)+\n",
        "                   pow(instance1['long']-instance2['long'],2)+pow(instance1['sqft_living15']-instance2['sqft_living15'],2)+\n",
        "                   pow(instance1['sqft_lot15']-instance2['sqft_lot15'],2))"
      ],
      "execution_count": null,
      "outputs": []
    },
    {
      "cell_type": "markdown",
      "metadata": {
        "id": "e9P_Mtufq4PS"
      },
      "source": [
        "fungsi untuk mencari centroid terdekat"
      ]
    },
    {
      "cell_type": "code",
      "metadata": {
        "id": "kZk5CLCMmX5n"
      },
      "source": [
        "def bandingkanCentroid(centroid, instance, k):\n",
        "  jarakMin = hitungJarak(centroid.iloc[0],instance)\n",
        "  idxJarakMin = 0\n",
        "  for i in range(k-1):\n",
        "    if(hitungJarak(centroid.iloc[i+1],instance)<=jarakMin):\n",
        "      jarakMin = hitungJarak(centroid.iloc[i+1],instance)\n",
        "      idxJarakMin = i+1\n",
        "  return idxJarakMin"
      ],
      "execution_count": null,
      "outputs": []
    },
    {
      "cell_type": "markdown",
      "metadata": {
        "id": "LJ8ESh5wrN8G"
      },
      "source": [
        "fungsi memperbarui centroid"
      ]
    },
    {
      "cell_type": "code",
      "metadata": {
        "id": "-PY6WldvvNRv"
      },
      "source": [
        "def perbaruiCentroid(data, k):\n",
        "  centroid = pd.DataFrame(columns=[\"price\",\"bedrooms\",\"bathrooms\",\"sqft_living\",\"sqft_lot\",\"floors\",\"waterfront\",\"view\",\"condition\",\"grade\",\"sqft_above\",\"sqft_basement\",\"yr_built\",\"yr_renovated\",\"lat\",\"long\",\"sqft_living15\",\"sqft_lot15\", \"klaster\"])\n",
        "  for i in range(k):\n",
        "    trash_id,price,bedrooms,bathrooms,sqft_living,sqft_lot,floors,waterfront,view,condition,grade,sqft_above,sqft_basement,yr_built,yr_renovated,trash_zipcode,lat,long,sqft_living15,sqft_lot15,klaster = (data.loc[data['klaster']==i]).mean()\n",
        "    tmp = pd.DataFrame([{'price': price, 'bedrooms': bedrooms, 'bathrooms':bathrooms, 'sqft_living':sqft_living, 'sqft_lot':sqft_lot, 'floors':floors, 'waterfront':waterfront, 'view':view, 'condition':condition, 'grade':grade, 'sqft_above':sqft_above, 'sqft_basement':sqft_basement, 'yr_built':yr_built, 'yr_renovated':yr_renovated, 'lat':lat, 'long':long, 'sqft_living15':sqft_living15, 'sqft_lot15':sqft_lot15, 'klaster':i}])\n",
        "    centroid = centroid.append(tmp, ignore_index = True)\n",
        "  return centroid"
      ],
      "execution_count": null,
      "outputs": []
    },
    {
      "cell_type": "markdown",
      "metadata": {
        "id": "xFM0-RRJOHV_"
      },
      "source": [
        "# Load Data"
      ]
    },
    {
      "cell_type": "markdown",
      "metadata": {
        "id": "1zq2R4ZHOM4C"
      },
      "source": [
        "Download Data"
      ]
    },
    {
      "cell_type": "code",
      "metadata": {
        "id": "9-nzuAbPOI7Z",
        "colab": {
          "base_uri": "https://localhost:8080/",
          "height": 224
        },
        "outputId": "917a8813-2da3-4151-bf5c-93d84b15c361"
      },
      "source": [
        "!wget -O kc_house_data.csv https://raw.githubusercontent.com/Jonasyao/Machine-Learning-Specialization-University-of-Washington-/master/Regression/Assignment_four/kc_house_data.csv"
      ],
      "execution_count": null,
      "outputs": [
        {
          "output_type": "stream",
          "text": [
            "--2019-12-04 11:01:26--  https://raw.githubusercontent.com/Jonasyao/Machine-Learning-Specialization-University-of-Washington-/master/Regression/Assignment_four/kc_house_data.csv\n",
            "Resolving raw.githubusercontent.com (raw.githubusercontent.com)... 151.101.0.133, 151.101.64.133, 151.101.128.133, ...\n",
            "Connecting to raw.githubusercontent.com (raw.githubusercontent.com)|151.101.0.133|:443... connected.\n",
            "HTTP request sent, awaiting response... 200 OK\n",
            "Length: 368640 (360K) [text/plain]\n",
            "Saving to: ‘kc_house_data.csv’\n",
            "\n",
            "\rkc_house_data.csv     0%[                    ]       0  --.-KB/s               \rkc_house_data.csv   100%[===================>] 360.00K  --.-KB/s    in 0.03s   \n",
            "\n",
            "2019-12-04 11:01:26 (11.8 MB/s) - ‘kc_house_data.csv’ saved [368640/368640]\n",
            "\n"
          ],
          "name": "stdout"
        }
      ]
    },
    {
      "cell_type": "markdown",
      "metadata": {
        "id": "nQZHT3cuOSZ_"
      },
      "source": [
        "**Load Data**\n",
        "\n",
        "menampilkan dataset"
      ]
    },
    {
      "cell_type": "code",
      "metadata": {
        "id": "6xjotDvyOLWu",
        "colab": {
          "base_uri": "https://localhost:8080/",
          "height": 224
        },
        "outputId": "f78cf031-2f23-4a33-8058-46844a54843c"
      },
      "source": [
        "df = pd.read_csv(\"kc_house_data.csv\")\n",
        "\n",
        "df.head()"
      ],
      "execution_count": null,
      "outputs": [
        {
          "output_type": "execute_result",
          "data": {
            "text/html": [
              "<div>\n",
              "<style scoped>\n",
              "    .dataframe tbody tr th:only-of-type {\n",
              "        vertical-align: middle;\n",
              "    }\n",
              "\n",
              "    .dataframe tbody tr th {\n",
              "        vertical-align: top;\n",
              "    }\n",
              "\n",
              "    .dataframe thead th {\n",
              "        text-align: right;\n",
              "    }\n",
              "</style>\n",
              "<table border=\"1\" class=\"dataframe\">\n",
              "  <thead>\n",
              "    <tr style=\"text-align: right;\">\n",
              "      <th></th>\n",
              "      <th>id</th>\n",
              "      <th>date</th>\n",
              "      <th>price</th>\n",
              "      <th>bedrooms</th>\n",
              "      <th>bathrooms</th>\n",
              "      <th>sqft_living</th>\n",
              "      <th>sqft_lot</th>\n",
              "      <th>floors</th>\n",
              "      <th>waterfront</th>\n",
              "      <th>view</th>\n",
              "      <th>condition</th>\n",
              "      <th>grade</th>\n",
              "      <th>sqft_above</th>\n",
              "      <th>sqft_basement</th>\n",
              "      <th>yr_built</th>\n",
              "      <th>yr_renovated</th>\n",
              "      <th>zipcode</th>\n",
              "      <th>lat</th>\n",
              "      <th>long</th>\n",
              "      <th>sqft_living15</th>\n",
              "      <th>sqft_lot15</th>\n",
              "    </tr>\n",
              "  </thead>\n",
              "  <tbody>\n",
              "    <tr>\n",
              "      <th>0</th>\n",
              "      <td>7129300520</td>\n",
              "      <td>20141013T000000</td>\n",
              "      <td>221900.0</td>\n",
              "      <td>3</td>\n",
              "      <td>1.00</td>\n",
              "      <td>1180</td>\n",
              "      <td>5650</td>\n",
              "      <td>1.0</td>\n",
              "      <td>0</td>\n",
              "      <td>0</td>\n",
              "      <td>3</td>\n",
              "      <td>7</td>\n",
              "      <td>1180</td>\n",
              "      <td>0</td>\n",
              "      <td>1955</td>\n",
              "      <td>0</td>\n",
              "      <td>98178</td>\n",
              "      <td>47.5112</td>\n",
              "      <td>-122.257</td>\n",
              "      <td>1340.0</td>\n",
              "      <td>5650.0</td>\n",
              "    </tr>\n",
              "    <tr>\n",
              "      <th>1</th>\n",
              "      <td>6414100192</td>\n",
              "      <td>20141209T000000</td>\n",
              "      <td>538000.0</td>\n",
              "      <td>3</td>\n",
              "      <td>2.25</td>\n",
              "      <td>2570</td>\n",
              "      <td>7242</td>\n",
              "      <td>2.0</td>\n",
              "      <td>0</td>\n",
              "      <td>0</td>\n",
              "      <td>3</td>\n",
              "      <td>7</td>\n",
              "      <td>2170</td>\n",
              "      <td>400</td>\n",
              "      <td>1951</td>\n",
              "      <td>1991</td>\n",
              "      <td>98125</td>\n",
              "      <td>47.7210</td>\n",
              "      <td>-122.319</td>\n",
              "      <td>1690.0</td>\n",
              "      <td>7639.0</td>\n",
              "    </tr>\n",
              "    <tr>\n",
              "      <th>2</th>\n",
              "      <td>5631500400</td>\n",
              "      <td>20150225T000000</td>\n",
              "      <td>180000.0</td>\n",
              "      <td>2</td>\n",
              "      <td>1.00</td>\n",
              "      <td>770</td>\n",
              "      <td>10000</td>\n",
              "      <td>1.0</td>\n",
              "      <td>0</td>\n",
              "      <td>0</td>\n",
              "      <td>3</td>\n",
              "      <td>6</td>\n",
              "      <td>770</td>\n",
              "      <td>0</td>\n",
              "      <td>1933</td>\n",
              "      <td>0</td>\n",
              "      <td>98028</td>\n",
              "      <td>47.7379</td>\n",
              "      <td>-122.233</td>\n",
              "      <td>2720.0</td>\n",
              "      <td>8062.0</td>\n",
              "    </tr>\n",
              "    <tr>\n",
              "      <th>3</th>\n",
              "      <td>2487200875</td>\n",
              "      <td>20141209T000000</td>\n",
              "      <td>604000.0</td>\n",
              "      <td>4</td>\n",
              "      <td>3.00</td>\n",
              "      <td>1960</td>\n",
              "      <td>5000</td>\n",
              "      <td>1.0</td>\n",
              "      <td>0</td>\n",
              "      <td>0</td>\n",
              "      <td>5</td>\n",
              "      <td>7</td>\n",
              "      <td>1050</td>\n",
              "      <td>910</td>\n",
              "      <td>1965</td>\n",
              "      <td>0</td>\n",
              "      <td>98136</td>\n",
              "      <td>47.5208</td>\n",
              "      <td>-122.393</td>\n",
              "      <td>1360.0</td>\n",
              "      <td>5000.0</td>\n",
              "    </tr>\n",
              "    <tr>\n",
              "      <th>4</th>\n",
              "      <td>1954400510</td>\n",
              "      <td>20150218T000000</td>\n",
              "      <td>510000.0</td>\n",
              "      <td>3</td>\n",
              "      <td>2.00</td>\n",
              "      <td>1680</td>\n",
              "      <td>8080</td>\n",
              "      <td>1.0</td>\n",
              "      <td>0</td>\n",
              "      <td>0</td>\n",
              "      <td>3</td>\n",
              "      <td>8</td>\n",
              "      <td>1680</td>\n",
              "      <td>0</td>\n",
              "      <td>1987</td>\n",
              "      <td>0</td>\n",
              "      <td>98074</td>\n",
              "      <td>47.6168</td>\n",
              "      <td>-122.045</td>\n",
              "      <td>1800.0</td>\n",
              "      <td>7503.0</td>\n",
              "    </tr>\n",
              "  </tbody>\n",
              "</table>\n",
              "</div>"
            ],
            "text/plain": [
              "           id             date     price  ...     long  sqft_living15  sqft_lot15\n",
              "0  7129300520  20141013T000000  221900.0  ... -122.257         1340.0      5650.0\n",
              "1  6414100192  20141209T000000  538000.0  ... -122.319         1690.0      7639.0\n",
              "2  5631500400  20150225T000000  180000.0  ... -122.233         2720.0      8062.0\n",
              "3  2487200875  20141209T000000  604000.0  ... -122.393         1360.0      5000.0\n",
              "4  1954400510  20150218T000000  510000.0  ... -122.045         1800.0      7503.0\n",
              "\n",
              "[5 rows x 21 columns]"
            ]
          },
          "metadata": {
            "tags": []
          },
          "execution_count": 6
        }
      ]
    },
    {
      "cell_type": "markdown",
      "metadata": {
        "id": "_ZhcbXyVOb5O"
      },
      "source": [
        "**Ukuran Data**\n",
        "\n",
        "data memiliki 21 atribut dan berjumlah 3165 instance"
      ]
    },
    {
      "cell_type": "code",
      "metadata": {
        "id": "5vTc1OFxOVRJ"
      },
      "source": [
        "df.shape\n",
        "jumlah_data, jumlah_atribut = df.shape"
      ],
      "execution_count": null,
      "outputs": []
    },
    {
      "cell_type": "markdown",
      "metadata": {
        "id": "uX6U7KfYOkOE"
      },
      "source": [
        "# Praproses"
      ]
    },
    {
      "cell_type": "markdown",
      "metadata": {
        "id": "lY46o-rMOmzv"
      },
      "source": [
        "Missing value"
      ]
    },
    {
      "cell_type": "code",
      "metadata": {
        "id": "V2_FEU0nOlpV",
        "colab": {
          "base_uri": "https://localhost:8080/",
          "height": 34
        },
        "outputId": "53494afd-3c13-4dd1-9b73-1f54b38bb1d4"
      },
      "source": [
        "df.isnull().values.any()"
      ],
      "execution_count": null,
      "outputs": [
        {
          "output_type": "execute_result",
          "data": {
            "text/plain": [
              "True"
            ]
          },
          "metadata": {
            "tags": []
          },
          "execution_count": 8
        }
      ]
    },
    {
      "cell_type": "markdown",
      "metadata": {
        "id": "2ZtO7TetsNlC"
      },
      "source": [
        "mencari null value dengan total nilai kosong disetiap kolom(atribut) "
      ]
    },
    {
      "cell_type": "code",
      "metadata": {
        "id": "OOGMLmslOoJg",
        "colab": {
          "base_uri": "https://localhost:8080/",
          "height": 391
        },
        "outputId": "1faefb40-abf4-4e6d-eed5-c303fe75cac5"
      },
      "source": [
        "df.isnull().sum()"
      ],
      "execution_count": null,
      "outputs": [
        {
          "output_type": "execute_result",
          "data": {
            "text/plain": [
              "id               0\n",
              "date             0\n",
              "price            0\n",
              "bedrooms         0\n",
              "bathrooms        0\n",
              "sqft_living      0\n",
              "sqft_lot         0\n",
              "floors           0\n",
              "waterfront       0\n",
              "view             0\n",
              "condition        0\n",
              "grade            0\n",
              "sqft_above       0\n",
              "sqft_basement    0\n",
              "yr_built         0\n",
              "yr_renovated     0\n",
              "zipcode          0\n",
              "lat              0\n",
              "long             0\n",
              "sqft_living15    1\n",
              "sqft_lot15       1\n",
              "dtype: int64"
            ]
          },
          "metadata": {
            "tags": []
          },
          "execution_count": 9
        }
      ]
    },
    {
      "cell_type": "markdown",
      "metadata": {
        "id": "xWHF_WirsW_s"
      },
      "source": [
        "data ke 3164 memiliki missing value untuk atribut sqft_living15"
      ]
    },
    {
      "cell_type": "code",
      "metadata": {
        "id": "YVMPTLfSOpS2",
        "colab": {
          "base_uri": "https://localhost:8080/",
          "height": 100
        },
        "outputId": "4d3fe173-3a2b-4899-fee5-ac004a82846b"
      },
      "source": [
        "bool_series = pd.isnull(df['sqft_living15'])\n",
        "df[bool_series]"
      ],
      "execution_count": null,
      "outputs": [
        {
          "output_type": "execute_result",
          "data": {
            "text/html": [
              "<div>\n",
              "<style scoped>\n",
              "    .dataframe tbody tr th:only-of-type {\n",
              "        vertical-align: middle;\n",
              "    }\n",
              "\n",
              "    .dataframe tbody tr th {\n",
              "        vertical-align: top;\n",
              "    }\n",
              "\n",
              "    .dataframe thead th {\n",
              "        text-align: right;\n",
              "    }\n",
              "</style>\n",
              "<table border=\"1\" class=\"dataframe\">\n",
              "  <thead>\n",
              "    <tr style=\"text-align: right;\">\n",
              "      <th></th>\n",
              "      <th>id</th>\n",
              "      <th>date</th>\n",
              "      <th>price</th>\n",
              "      <th>bedrooms</th>\n",
              "      <th>bathrooms</th>\n",
              "      <th>sqft_living</th>\n",
              "      <th>sqft_lot</th>\n",
              "      <th>floors</th>\n",
              "      <th>waterfront</th>\n",
              "      <th>view</th>\n",
              "      <th>condition</th>\n",
              "      <th>grade</th>\n",
              "      <th>sqft_above</th>\n",
              "      <th>sqft_basement</th>\n",
              "      <th>yr_built</th>\n",
              "      <th>yr_renovated</th>\n",
              "      <th>zipcode</th>\n",
              "      <th>lat</th>\n",
              "      <th>long</th>\n",
              "      <th>sqft_living15</th>\n",
              "      <th>sqft_lot15</th>\n",
              "    </tr>\n",
              "  </thead>\n",
              "  <tbody>\n",
              "    <tr>\n",
              "      <th>3164</th>\n",
              "      <td>6021503830</td>\n",
              "      <td>20140620T000000</td>\n",
              "      <td>480000.0</td>\n",
              "      <td>4</td>\n",
              "      <td>1.0</td>\n",
              "      <td>2080</td>\n",
              "      <td>5500</td>\n",
              "      <td>1.0</td>\n",
              "      <td>0</td>\n",
              "      <td>0</td>\n",
              "      <td>3</td>\n",
              "      <td>7</td>\n",
              "      <td>1040</td>\n",
              "      <td>1040</td>\n",
              "      <td>1941</td>\n",
              "      <td>0</td>\n",
              "      <td>98117</td>\n",
              "      <td>47.6838</td>\n",
              "      <td>-122.3</td>\n",
              "      <td>NaN</td>\n",
              "      <td>NaN</td>\n",
              "    </tr>\n",
              "  </tbody>\n",
              "</table>\n",
              "</div>"
            ],
            "text/plain": [
              "              id             date     price  ...   long  sqft_living15  sqft_lot15\n",
              "3164  6021503830  20140620T000000  480000.0  ... -122.3            NaN         NaN\n",
              "\n",
              "[1 rows x 21 columns]"
            ]
          },
          "metadata": {
            "tags": []
          },
          "execution_count": 10
        }
      ]
    },
    {
      "cell_type": "markdown",
      "metadata": {
        "id": "EdV4p1oHsZey"
      },
      "source": [
        "data ke 3164 memiliki missing value untuk atribut sqft_lot15"
      ]
    },
    {
      "cell_type": "code",
      "metadata": {
        "id": "xSl6w8nOOqvE",
        "colab": {
          "base_uri": "https://localhost:8080/",
          "height": 100
        },
        "outputId": "598c4896-ee29-45ad-9aad-0798d44e1c9e"
      },
      "source": [
        "bool_series = pd.isnull(df['sqft_lot15'])\n",
        "df[bool_series]"
      ],
      "execution_count": null,
      "outputs": [
        {
          "output_type": "execute_result",
          "data": {
            "text/html": [
              "<div>\n",
              "<style scoped>\n",
              "    .dataframe tbody tr th:only-of-type {\n",
              "        vertical-align: middle;\n",
              "    }\n",
              "\n",
              "    .dataframe tbody tr th {\n",
              "        vertical-align: top;\n",
              "    }\n",
              "\n",
              "    .dataframe thead th {\n",
              "        text-align: right;\n",
              "    }\n",
              "</style>\n",
              "<table border=\"1\" class=\"dataframe\">\n",
              "  <thead>\n",
              "    <tr style=\"text-align: right;\">\n",
              "      <th></th>\n",
              "      <th>id</th>\n",
              "      <th>date</th>\n",
              "      <th>price</th>\n",
              "      <th>bedrooms</th>\n",
              "      <th>bathrooms</th>\n",
              "      <th>sqft_living</th>\n",
              "      <th>sqft_lot</th>\n",
              "      <th>floors</th>\n",
              "      <th>waterfront</th>\n",
              "      <th>view</th>\n",
              "      <th>condition</th>\n",
              "      <th>grade</th>\n",
              "      <th>sqft_above</th>\n",
              "      <th>sqft_basement</th>\n",
              "      <th>yr_built</th>\n",
              "      <th>yr_renovated</th>\n",
              "      <th>zipcode</th>\n",
              "      <th>lat</th>\n",
              "      <th>long</th>\n",
              "      <th>sqft_living15</th>\n",
              "      <th>sqft_lot15</th>\n",
              "    </tr>\n",
              "  </thead>\n",
              "  <tbody>\n",
              "    <tr>\n",
              "      <th>3164</th>\n",
              "      <td>6021503830</td>\n",
              "      <td>20140620T000000</td>\n",
              "      <td>480000.0</td>\n",
              "      <td>4</td>\n",
              "      <td>1.0</td>\n",
              "      <td>2080</td>\n",
              "      <td>5500</td>\n",
              "      <td>1.0</td>\n",
              "      <td>0</td>\n",
              "      <td>0</td>\n",
              "      <td>3</td>\n",
              "      <td>7</td>\n",
              "      <td>1040</td>\n",
              "      <td>1040</td>\n",
              "      <td>1941</td>\n",
              "      <td>0</td>\n",
              "      <td>98117</td>\n",
              "      <td>47.6838</td>\n",
              "      <td>-122.3</td>\n",
              "      <td>NaN</td>\n",
              "      <td>NaN</td>\n",
              "    </tr>\n",
              "  </tbody>\n",
              "</table>\n",
              "</div>"
            ],
            "text/plain": [
              "              id             date     price  ...   long  sqft_living15  sqft_lot15\n",
              "3164  6021503830  20140620T000000  480000.0  ... -122.3            NaN         NaN\n",
              "\n",
              "[1 rows x 21 columns]"
            ]
          },
          "metadata": {
            "tags": []
          },
          "execution_count": 11
        }
      ]
    },
    {
      "cell_type": "markdown",
      "metadata": {
        "id": "i17XWg4WscP6"
      },
      "source": [
        "drop null value"
      ]
    },
    {
      "cell_type": "code",
      "metadata": {
        "id": "EVio-kmUOrvF"
      },
      "source": [
        "df=df.dropna()\n",
        "\n",
        "df.shape\n",
        "jumlah_data, jumlah_atribut = df.shape"
      ],
      "execution_count": null,
      "outputs": []
    },
    {
      "cell_type": "markdown",
      "metadata": {
        "id": "7MXapmzNO5KZ"
      },
      "source": [
        "**Rangkuman Data**\n",
        "\n",
        "deskripsi setiap atribut\n",
        "\n",
        "*Summary Statistic*\n",
        "\n",
        "DataFrame.count : Hitung jumlah pengamatan non-NA / null.\n",
        "\n",
        "DataFrame.max : Maksimum nilai dalam objek.\n",
        "\n",
        "DataFrame.min : Minimum nilai dalam objek.\n",
        "\n",
        "DataFrame.mean : Nilai rata-rata.\n",
        "\n",
        "DataFrame.std : Standar deviasi pengamatan."
      ]
    },
    {
      "cell_type": "code",
      "metadata": {
        "id": "EYG-wRWCO50h",
        "colab": {
          "base_uri": "https://localhost:8080/",
          "height": 317
        },
        "outputId": "255a18e5-293b-4796-d5a1-e43f74357e7c"
      },
      "source": [
        "df[[\"price\",\"bedrooms\",\"bathrooms\",\"sqft_living\",\"sqft_lot\",\"floors\",\"waterfront\",\"view\",\"condition\",\"grade\",\"sqft_above\",\"sqft_basement\",\"yr_built\",\"yr_renovated\",\"lat\",\"long\",\"sqft_living15\",\"sqft_lot15\"]].describe()"
      ],
      "execution_count": null,
      "outputs": [
        {
          "output_type": "execute_result",
          "data": {
            "text/html": [
              "<div>\n",
              "<style scoped>\n",
              "    .dataframe tbody tr th:only-of-type {\n",
              "        vertical-align: middle;\n",
              "    }\n",
              "\n",
              "    .dataframe tbody tr th {\n",
              "        vertical-align: top;\n",
              "    }\n",
              "\n",
              "    .dataframe thead th {\n",
              "        text-align: right;\n",
              "    }\n",
              "</style>\n",
              "<table border=\"1\" class=\"dataframe\">\n",
              "  <thead>\n",
              "    <tr style=\"text-align: right;\">\n",
              "      <th></th>\n",
              "      <th>price</th>\n",
              "      <th>bedrooms</th>\n",
              "      <th>bathrooms</th>\n",
              "      <th>sqft_living</th>\n",
              "      <th>sqft_lot</th>\n",
              "      <th>floors</th>\n",
              "      <th>waterfront</th>\n",
              "      <th>view</th>\n",
              "      <th>condition</th>\n",
              "      <th>grade</th>\n",
              "      <th>sqft_above</th>\n",
              "      <th>sqft_basement</th>\n",
              "      <th>yr_built</th>\n",
              "      <th>yr_renovated</th>\n",
              "      <th>lat</th>\n",
              "      <th>long</th>\n",
              "      <th>sqft_living15</th>\n",
              "      <th>sqft_lot15</th>\n",
              "    </tr>\n",
              "  </thead>\n",
              "  <tbody>\n",
              "    <tr>\n",
              "      <th>count</th>\n",
              "      <td>3.164000e+03</td>\n",
              "      <td>3164.000000</td>\n",
              "      <td>3164.000000</td>\n",
              "      <td>3164.000000</td>\n",
              "      <td>3.164000e+03</td>\n",
              "      <td>3164.000000</td>\n",
              "      <td>3164.000000</td>\n",
              "      <td>3164.000000</td>\n",
              "      <td>3164.000000</td>\n",
              "      <td>3164.000000</td>\n",
              "      <td>3164.000000</td>\n",
              "      <td>3164.000000</td>\n",
              "      <td>3164.000000</td>\n",
              "      <td>3164.000000</td>\n",
              "      <td>3164.000000</td>\n",
              "      <td>3164.000000</td>\n",
              "      <td>3164.000000</td>\n",
              "      <td>3164.000000</td>\n",
              "    </tr>\n",
              "    <tr>\n",
              "      <th>mean</th>\n",
              "      <td>5.354358e+05</td>\n",
              "      <td>3.381163</td>\n",
              "      <td>2.071903</td>\n",
              "      <td>2070.027813</td>\n",
              "      <td>1.525054e+04</td>\n",
              "      <td>1.434893</td>\n",
              "      <td>0.009798</td>\n",
              "      <td>0.244311</td>\n",
              "      <td>3.459229</td>\n",
              "      <td>7.615676</td>\n",
              "      <td>1761.252212</td>\n",
              "      <td>308.775601</td>\n",
              "      <td>1967.489254</td>\n",
              "      <td>94.668774</td>\n",
              "      <td>47.557868</td>\n",
              "      <td>-122.212337</td>\n",
              "      <td>1982.544564</td>\n",
              "      <td>13176.302465</td>\n",
              "    </tr>\n",
              "    <tr>\n",
              "      <th>std</th>\n",
              "      <td>3.809004e+05</td>\n",
              "      <td>0.895472</td>\n",
              "      <td>0.768212</td>\n",
              "      <td>920.251879</td>\n",
              "      <td>4.254457e+04</td>\n",
              "      <td>0.507792</td>\n",
              "      <td>0.098513</td>\n",
              "      <td>0.776298</td>\n",
              "      <td>0.682592</td>\n",
              "      <td>1.166324</td>\n",
              "      <td>815.934864</td>\n",
              "      <td>458.977904</td>\n",
              "      <td>28.095275</td>\n",
              "      <td>424.439427</td>\n",
              "      <td>0.140789</td>\n",
              "      <td>0.139577</td>\n",
              "      <td>686.256670</td>\n",
              "      <td>25413.180755</td>\n",
              "    </tr>\n",
              "    <tr>\n",
              "      <th>min</th>\n",
              "      <td>7.500000e+04</td>\n",
              "      <td>0.000000</td>\n",
              "      <td>0.000000</td>\n",
              "      <td>380.000000</td>\n",
              "      <td>6.490000e+02</td>\n",
              "      <td>1.000000</td>\n",
              "      <td>0.000000</td>\n",
              "      <td>0.000000</td>\n",
              "      <td>1.000000</td>\n",
              "      <td>3.000000</td>\n",
              "      <td>380.000000</td>\n",
              "      <td>0.000000</td>\n",
              "      <td>1900.000000</td>\n",
              "      <td>0.000000</td>\n",
              "      <td>47.177500</td>\n",
              "      <td>-122.514000</td>\n",
              "      <td>620.000000</td>\n",
              "      <td>660.000000</td>\n",
              "    </tr>\n",
              "    <tr>\n",
              "      <th>25%</th>\n",
              "      <td>3.150000e+05</td>\n",
              "      <td>3.000000</td>\n",
              "      <td>1.500000</td>\n",
              "      <td>1430.000000</td>\n",
              "      <td>5.453750e+03</td>\n",
              "      <td>1.000000</td>\n",
              "      <td>0.000000</td>\n",
              "      <td>0.000000</td>\n",
              "      <td>3.000000</td>\n",
              "      <td>7.000000</td>\n",
              "      <td>1190.000000</td>\n",
              "      <td>0.000000</td>\n",
              "      <td>1950.000000</td>\n",
              "      <td>0.000000</td>\n",
              "      <td>47.459575</td>\n",
              "      <td>-122.324250</td>\n",
              "      <td>1480.000000</td>\n",
              "      <td>5429.500000</td>\n",
              "    </tr>\n",
              "    <tr>\n",
              "      <th>50%</th>\n",
              "      <td>4.450000e+05</td>\n",
              "      <td>3.000000</td>\n",
              "      <td>2.000000</td>\n",
              "      <td>1910.000000</td>\n",
              "      <td>8.000000e+03</td>\n",
              "      <td>1.000000</td>\n",
              "      <td>0.000000</td>\n",
              "      <td>0.000000</td>\n",
              "      <td>3.000000</td>\n",
              "      <td>7.000000</td>\n",
              "      <td>1545.000000</td>\n",
              "      <td>0.000000</td>\n",
              "      <td>1969.000000</td>\n",
              "      <td>0.000000</td>\n",
              "      <td>47.572500</td>\n",
              "      <td>-122.226000</td>\n",
              "      <td>1830.000000</td>\n",
              "      <td>7873.000000</td>\n",
              "    </tr>\n",
              "    <tr>\n",
              "      <th>75%</th>\n",
              "      <td>6.402500e+05</td>\n",
              "      <td>4.000000</td>\n",
              "      <td>2.500000</td>\n",
              "      <td>2500.000000</td>\n",
              "      <td>1.122250e+04</td>\n",
              "      <td>2.000000</td>\n",
              "      <td>0.000000</td>\n",
              "      <td>0.000000</td>\n",
              "      <td>4.000000</td>\n",
              "      <td>8.000000</td>\n",
              "      <td>2150.000000</td>\n",
              "      <td>600.000000</td>\n",
              "      <td>1990.000000</td>\n",
              "      <td>0.000000</td>\n",
              "      <td>47.680250</td>\n",
              "      <td>-122.124000</td>\n",
              "      <td>2360.000000</td>\n",
              "      <td>10408.250000</td>\n",
              "    </tr>\n",
              "    <tr>\n",
              "      <th>max</th>\n",
              "      <td>5.350000e+06</td>\n",
              "      <td>8.000000</td>\n",
              "      <td>6.000000</td>\n",
              "      <td>8010.000000</td>\n",
              "      <td>1.651359e+06</td>\n",
              "      <td>3.500000</td>\n",
              "      <td>1.000000</td>\n",
              "      <td>4.000000</td>\n",
              "      <td>5.000000</td>\n",
              "      <td>12.000000</td>\n",
              "      <td>6720.000000</td>\n",
              "      <td>2620.000000</td>\n",
              "      <td>2015.000000</td>\n",
              "      <td>2015.000000</td>\n",
              "      <td>47.777600</td>\n",
              "      <td>-121.315000</td>\n",
              "      <td>5790.000000</td>\n",
              "      <td>425581.000000</td>\n",
              "    </tr>\n",
              "  </tbody>\n",
              "</table>\n",
              "</div>"
            ],
            "text/plain": [
              "              price     bedrooms  ...  sqft_living15     sqft_lot15\n",
              "count  3.164000e+03  3164.000000  ...    3164.000000    3164.000000\n",
              "mean   5.354358e+05     3.381163  ...    1982.544564   13176.302465\n",
              "std    3.809004e+05     0.895472  ...     686.256670   25413.180755\n",
              "min    7.500000e+04     0.000000  ...     620.000000     660.000000\n",
              "25%    3.150000e+05     3.000000  ...    1480.000000    5429.500000\n",
              "50%    4.450000e+05     3.000000  ...    1830.000000    7873.000000\n",
              "75%    6.402500e+05     4.000000  ...    2360.000000   10408.250000\n",
              "max    5.350000e+06     8.000000  ...    5790.000000  425581.000000\n",
              "\n",
              "[8 rows x 18 columns]"
            ]
          },
          "metadata": {
            "tags": []
          },
          "execution_count": 13
        }
      ]
    },
    {
      "cell_type": "markdown",
      "metadata": {
        "id": "uWrNsWv8PFws"
      },
      "source": [
        "# Unsupervised : KMeans"
      ]
    },
    {
      "cell_type": "code",
      "metadata": {
        "id": "raMUNpQDPJP3",
        "colab": {
          "base_uri": "https://localhost:8080/",
          "height": 34
        },
        "outputId": "94d6ca60-3a0c-4beb-eb00-87e0eb9bdbb3"
      },
      "source": [
        "print(hitungJarak(df.iloc[2], df.iloc[0]))"
      ],
      "execution_count": null,
      "outputs": [
        {
          "output_type": "stream",
          "text": [
            "42222.73593754873\n"
          ],
          "name": "stdout"
        }
      ]
    },
    {
      "cell_type": "markdown",
      "metadata": {
        "id": "RvQiI_9HdNZz"
      },
      "source": [
        "**Inisiasi**\n",
        "\n",
        "parameter yang dapat diubah:\n",
        "1. k adalah jumlah klaster\n",
        "2. jumlah iterasi"
      ]
    },
    {
      "cell_type": "code",
      "metadata": {
        "id": "Xnw11pu0dYc5"
      },
      "source": [
        "k = 3\n",
        "jumlah_iterasi = 10\n",
        "df['klaster'] = np.nan\n",
        "#pilih instance centroid secara random\n",
        "centroid = df.iloc[0:k]"
      ],
      "execution_count": null,
      "outputs": []
    },
    {
      "cell_type": "markdown",
      "metadata": {
        "id": "4mXKAul4Vfr2"
      },
      "source": [
        "**Update Centroid**\n",
        "\n",
        "1. melakukan assign instance kedalam klaster terdekat\n",
        "2. memperbarui centroid"
      ]
    },
    {
      "cell_type": "code",
      "metadata": {
        "id": "q-B-8CT1Vc2Q",
        "colab": {
          "base_uri": "https://localhost:8080/",
          "height": 187
        },
        "outputId": "1deb3b6c-d232-4a5d-a9ea-1d1f930e9dd9"
      },
      "source": [
        "for t in range(jumlah_iterasi):\n",
        "  print(t/jumlah_iterasi*100,\"%\")\n",
        "  #assign instance ke dalam klaster terdekat\n",
        "  for i in range(jumlah_data):\n",
        "    df.loc[i, 'klaster'] = bandingkanCentroid(centroid, df.iloc[i], k)\n",
        "\n",
        "  #perbarui centroid\n",
        "  centroid = perbaruiCentroid(df, k)"
      ],
      "execution_count": null,
      "outputs": [
        {
          "output_type": "stream",
          "text": [
            "0.0 %\n",
            "10.0 %\n",
            "20.0 %\n",
            "30.0 %\n",
            "40.0 %\n",
            "50.0 %\n",
            "60.0 %\n",
            "70.0 %\n",
            "80.0 %\n",
            "90.0 %\n"
          ],
          "name": "stdout"
        }
      ]
    },
    {
      "cell_type": "markdown",
      "metadata": {
        "id": "cjwVJN_iVoRM"
      },
      "source": [
        "Visualisasi"
      ]
    },
    {
      "cell_type": "code",
      "metadata": {
        "id": "IUosK7MY8Bap",
        "colab": {
          "base_uri": "https://localhost:8080/",
          "height": 265
        },
        "outputId": "1651be04-5094-432d-e9c8-01d374bcfed7"
      },
      "source": [
        "plt.scatter((df.loc[df['klaster']==0])['sqft_living'], (df.loc[df['klaster']==0])['price'], color = 'red')\n",
        "plt.scatter((df.loc[df['klaster']==1])['sqft_living'], (df.loc[df['klaster']==1])['price'], color = 'yellow')\n",
        "plt.scatter((df.loc[df['klaster']==2])['sqft_living'], (df.loc[df['klaster']==2])['price'], color = 'green')\n",
        "plt.scatter(centroid['sqft_living15'], centroid['price'], color = 'blue')\n",
        "plt.show()"
      ],
      "execution_count": null,
      "outputs": [
        {
          "output_type": "display_data",
          "data": {
            "image/png": "[encoded data removed]",
            "text/plain": [
              "<Figure size 432x288 with 1 Axes>"
            ]
          },
          "metadata": {
            "tags": []
          }
        }
      ]
    }
  ]
}